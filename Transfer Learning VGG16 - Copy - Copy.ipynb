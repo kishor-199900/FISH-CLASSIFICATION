{
 "cells": [
  {
   "cell_type": "markdown",
   "metadata": {},
   "source": [
    "## Transfer Learning VGG 16 and VGG 19 using Keras"
   ]
  },
  {
   "cell_type": "code",
   "execution_count": 1,
   "metadata": {},
   "outputs": [
    {
     "name": "stderr",
     "output_type": "stream",
     "text": [
      "'nvidia-smi' is not recognized as an internal or external command,\n",
      "operable program or batch file.\n"
     ]
    }
   ],
   "source": [
    "!nvidia-smi"
   ]
  },
  {
   "cell_type": "code",
   "execution_count": 1,
   "metadata": {},
   "outputs": [],
   "source": [
    "from tensorflow.compat.v1 import ConfigProto\n",
    "from tensorflow.compat.v1 import InteractiveSession\n",
    "\n",
    "config = ConfigProto()\n",
    "config.gpu_options.per_process_gpu_memory_fraction = 0.5\n",
    "config.gpu_options.allow_growth = True\n",
    "session = InteractiveSession(config=config)"
   ]
  },
  {
   "cell_type": "code",
   "execution_count": 2,
   "metadata": {},
   "outputs": [
    {
     "name": "stdout",
     "output_type": "stream",
     "text": [
      "2.9.1\n"
     ]
    }
   ],
   "source": [
    "import tensorflow as tf\n",
    "print(tf.__version__)"
   ]
  },
  {
   "cell_type": "code",
   "execution_count": 3,
   "metadata": {},
   "outputs": [],
   "source": [
    "# import the libraries as shown below\n",
    "\n",
    "from tensorflow.keras.layers import Input, Lambda, Dense, Flatten\n",
    "from tensorflow.keras.models import Model\n",
    "from tensorflow.keras.applications.vgg16 import VGG16\n",
    "from tensorflow.keras.applications.vgg19 import VGG19\n",
    "from tensorflow.keras.preprocessing import image\n",
    "from tensorflow.keras.preprocessing.image import ImageDataGenerator,load_img\n",
    "from tensorflow.keras.models import Sequential\n",
    "import numpy as np\n",
    "from glob import glob\n",
    "#import matplotlib.pyplot as plt"
   ]
  },
  {
   "cell_type": "code",
   "execution_count": 4,
   "metadata": {},
   "outputs": [],
   "source": [
    "from sklearn.model_selection import train_test_split"
   ]
  },
  {
   "cell_type": "code",
   "execution_count": 5,
   "metadata": {},
   "outputs": [],
   "source": [
    "# re-size all the images to this\n",
    "IMAGE_SIZE = [224, 224]\n",
    "\n",
    "train_path = 'c:/Users/jadha/Data/MTP_data/Train'\n",
    "valid_path = 'c:/Users/jadha/Data/MTP_data/Test'\n"
   ]
  },
  {
   "cell_type": "code",
   "execution_count": 6,
   "metadata": {},
   "outputs": [],
   "source": [
    "# Import the VGG16 library as shown below and add preprocessing layer to the front of VGG\n",
    "# Here we will be using imagenet weights\n",
    "\n",
    "vgg16 = VGG16(input_shape=IMAGE_SIZE + [3], weights='imagenet', include_top=False)\n",
    "\n",
    "\n"
   ]
  },
  {
   "cell_type": "code",
   "execution_count": 7,
   "metadata": {},
   "outputs": [],
   "source": [
    "# don't train existing weights\n",
    "for layer in vgg16.layers:\n",
    "    layer.trainable = False"
   ]
  },
  {
   "cell_type": "code",
   "execution_count": 8,
   "metadata": {},
   "outputs": [],
   "source": [
    "  # useful for getting number of output classes\n",
    "folders = glob('c:/Users/jadha/Data/MTP_data/Train/*')"
   ]
  },
  {
   "cell_type": "code",
   "execution_count": 9,
   "metadata": {},
   "outputs": [
    {
     "data": {
      "text/plain": [
       "['c:/Users/jadha/Data/MTP_data/Train\\\\Catla',\n",
       " 'c:/Users/jadha/Data/MTP_data/Train\\\\Comman carp',\n",
       " 'c:/Users/jadha/Data/MTP_data/Train\\\\Grass Carp',\n",
       " 'c:/Users/jadha/Data/MTP_data/Train\\\\Mrigal',\n",
       " 'c:/Users/jadha/Data/MTP_data/Train\\\\Pomfret',\n",
       " 'c:/Users/jadha/Data/MTP_data/Train\\\\Rohu',\n",
       " 'c:/Users/jadha/Data/MTP_data/Train\\\\Silver Carp',\n",
       " 'c:/Users/jadha/Data/MTP_data/Train\\\\Tilapia',\n",
       " 'c:/Users/jadha/Data/MTP_data/Train\\\\Tuna']"
      ]
     },
     "execution_count": 9,
     "metadata": {},
     "output_type": "execute_result"
    }
   ],
   "source": [
    "folders"
   ]
  },
  {
   "cell_type": "code",
   "execution_count": 10,
   "metadata": {},
   "outputs": [],
   "source": [
    "# our layers - you can add more if you want\n",
    "x = Flatten()(vgg16.output)"
   ]
  },
  {
   "cell_type": "code",
   "execution_count": 11,
   "metadata": {},
   "outputs": [
    {
     "data": {
      "text/plain": [
       "9"
      ]
     },
     "execution_count": 11,
     "metadata": {},
     "output_type": "execute_result"
    }
   ],
   "source": [
    "len(folders)"
   ]
  },
  {
   "cell_type": "code",
   "execution_count": 12,
   "metadata": {},
   "outputs": [],
   "source": [
    "prediction = Dense(len(folders), activation='softmax')(x)\n",
    "\n",
    "# create a model object\n",
    "model = Model(inputs=vgg16.input, outputs=prediction)"
   ]
  },
  {
   "cell_type": "code",
   "execution_count": 13,
   "metadata": {},
   "outputs": [
    {
     "name": "stdout",
     "output_type": "stream",
     "text": [
      "Model: \"model\"\n",
      "_________________________________________________________________\n",
      " Layer (type)                Output Shape              Param #   \n",
      "=================================================================\n",
      " input_1 (InputLayer)        [(None, 224, 224, 3)]     0         \n",
      "                                                                 \n",
      " block1_conv1 (Conv2D)       (None, 224, 224, 64)      1792      \n",
      "                                                                 \n",
      " block1_conv2 (Conv2D)       (None, 224, 224, 64)      36928     \n",
      "                                                                 \n",
      " block1_pool (MaxPooling2D)  (None, 112, 112, 64)      0         \n",
      "                                                                 \n",
      " block2_conv1 (Conv2D)       (None, 112, 112, 128)     73856     \n",
      "                                                                 \n",
      " block2_conv2 (Conv2D)       (None, 112, 112, 128)     147584    \n",
      "                                                                 \n",
      " block2_pool (MaxPooling2D)  (None, 56, 56, 128)       0         \n",
      "                                                                 \n",
      " block3_conv1 (Conv2D)       (None, 56, 56, 256)       295168    \n",
      "                                                                 \n",
      " block3_conv2 (Conv2D)       (None, 56, 56, 256)       590080    \n",
      "                                                                 \n",
      " block3_conv3 (Conv2D)       (None, 56, 56, 256)       590080    \n",
      "                                                                 \n",
      " block3_pool (MaxPooling2D)  (None, 28, 28, 256)       0         \n",
      "                                                                 \n",
      " block4_conv1 (Conv2D)       (None, 28, 28, 512)       1180160   \n",
      "                                                                 \n",
      " block4_conv2 (Conv2D)       (None, 28, 28, 512)       2359808   \n",
      "                                                                 \n",
      " block4_conv3 (Conv2D)       (None, 28, 28, 512)       2359808   \n",
      "                                                                 \n",
      " block4_pool (MaxPooling2D)  (None, 14, 14, 512)       0         \n",
      "                                                                 \n",
      " block5_conv1 (Conv2D)       (None, 14, 14, 512)       2359808   \n",
      "                                                                 \n",
      " block5_conv2 (Conv2D)       (None, 14, 14, 512)       2359808   \n",
      "                                                                 \n",
      " block5_conv3 (Conv2D)       (None, 14, 14, 512)       2359808   \n",
      "                                                                 \n",
      " block5_pool (MaxPooling2D)  (None, 7, 7, 512)         0         \n",
      "                                                                 \n",
      " flatten (Flatten)           (None, 25088)             0         \n",
      "                                                                 \n",
      " dense (Dense)               (None, 9)                 225801    \n",
      "                                                                 \n",
      "=================================================================\n",
      "Total params: 14,940,489\n",
      "Trainable params: 225,801\n",
      "Non-trainable params: 14,714,688\n",
      "_________________________________________________________________\n"
     ]
    }
   ],
   "source": [
    "\n",
    "# view the structure of the model\n",
    "model.summary()\n"
   ]
  },
  {
   "cell_type": "code",
   "execution_count": 14,
   "metadata": {},
   "outputs": [],
   "source": [
    "# tell the model what cost and optimization method to use\n",
    "model.compile(\n",
    "  loss='categorical_crossentropy',\n",
    "  optimizer='adam',\n",
    "  metrics=['accuracy']\n",
    ")\n"
   ]
  },
  {
   "cell_type": "code",
   "execution_count": 15,
   "metadata": {},
   "outputs": [],
   "source": [
    "# Use the Image Data Generator to import the images from the dataset\n",
    "from tensorflow.keras.preprocessing.image import ImageDataGenerator\n",
    "\n",
    "train_datagen = ImageDataGenerator(rescale = 1./255,\n",
    "                                   shear_range = 0.2,\n",
    "                                   zoom_range = 0.2,\n",
    "                                   horizontal_flip = True)\n",
    "\n",
    "test_datagen = ImageDataGenerator(rescale = 1./255)"
   ]
  },
  {
   "cell_type": "code",
   "execution_count": 16,
   "metadata": {},
   "outputs": [
    {
     "name": "stdout",
     "output_type": "stream",
     "text": [
      "Found 970 images belonging to 9 classes.\n"
     ]
    }
   ],
   "source": [
    "# Make sure you provide the same target size as initialied for the image size\n",
    "training_set = train_datagen.flow_from_directory('c:/Users/jadha/Data/MTP_data/Train',\n",
    "                                                 target_size = (224, 224),\n",
    "                                                 batch_size = 32,\n",
    "                                                 class_mode = 'categorical')"
   ]
  },
  {
   "cell_type": "code",
   "execution_count": 17,
   "metadata": {},
   "outputs": [
    {
     "name": "stdout",
     "output_type": "stream",
     "text": [
      "Found 147 images belonging to 9 classes.\n"
     ]
    }
   ],
   "source": [
    "test_set = test_datagen.flow_from_directory('c:/Users/jadha/Data/MTP_data/Test',\n",
    "                                            target_size = (224, 224),\n",
    "                                            batch_size = 32,\n",
    "                                            class_mode = 'categorical')"
   ]
  },
  {
   "cell_type": "code",
   "execution_count": 18,
   "metadata": {
    "scrolled": true
   },
   "outputs": [
    {
     "name": "stderr",
     "output_type": "stream",
     "text": [
      "C:\\Users\\jadha\\AppData\\Local\\Temp\\ipykernel_34300\\177326590.py:1: UserWarning: `Model.fit_generator` is deprecated and will be removed in a future version. Please use `Model.fit`, which supports generators.\n",
      "  r = model.fit_generator(\n"
     ]
    },
    {
     "name": "stdout",
     "output_type": "stream",
     "text": [
      "Epoch 1/10\n",
      "31/31 [==============================] - 501s 16s/step - loss: 1.3507 - accuracy: 0.5701 - val_loss: 0.6658 - val_accuracy: 0.8027\n",
      "Epoch 2/10\n",
      "31/31 [==============================] - 2457s 82s/step - loss: 0.4001 - accuracy: 0.8742 - val_loss: 0.3283 - val_accuracy: 0.9320\n",
      "Epoch 3/10\n",
      "31/31 [==============================] - 334s 11s/step - loss: 0.2176 - accuracy: 0.9423 - val_loss: 0.3117 - val_accuracy: 0.9320\n",
      "Epoch 4/10\n",
      "31/31 [==============================] - 337s 11s/step - loss: 0.1769 - accuracy: 0.9526 - val_loss: 0.2461 - val_accuracy: 0.9320\n",
      "Epoch 5/10\n",
      "31/31 [==============================] - 381s 12s/step - loss: 0.1216 - accuracy: 0.9742 - val_loss: 0.2324 - val_accuracy: 0.9456\n",
      "Epoch 6/10\n",
      "31/31 [==============================] - 333s 11s/step - loss: 0.0970 - accuracy: 0.9856 - val_loss: 0.2214 - val_accuracy: 0.9456\n",
      "Epoch 7/10\n",
      "31/31 [==============================] - 347s 11s/step - loss: 0.0830 - accuracy: 0.9835 - val_loss: 0.1959 - val_accuracy: 0.9592\n",
      "Epoch 8/10\n",
      "31/31 [==============================] - 329s 11s/step - loss: 0.0536 - accuracy: 0.9979 - val_loss: 0.1840 - val_accuracy: 0.9524\n",
      "Epoch 9/10\n",
      "31/31 [==============================] - 340s 11s/step - loss: 0.0609 - accuracy: 0.9918 - val_loss: 0.2044 - val_accuracy: 0.9320\n",
      "Epoch 10/10\n",
      "31/31 [==============================] - 330s 11s/step - loss: 0.0473 - accuracy: 0.9938 - val_loss: 0.1942 - val_accuracy: 0.9456\n"
     ]
    }
   ],
   "source": [
    "r = model.fit_generator(\n",
    "  training_set,\n",
    "  validation_data=test_set,\n",
    "  epochs=10,\n",
    "  steps_per_epoch=len(training_set),\n",
    "  validation_steps=len(test_set)\n",
    ")"
   ]
  },
  {
   "cell_type": "code",
   "execution_count": null,
   "metadata": {},
   "outputs": [],
   "source": []
  },
  {
   "cell_type": "code",
   "execution_count": 19,
   "metadata": {
    "scrolled": true
   },
   "outputs": [],
   "source": [
    "# fit the model\n",
    "# # Run the cell. It will take some time to execute\n",
    "# r = model.fit_generator(\n",
    "#   training_set,\n",
    "#   epochs=10,\n",
    "#   steps_per_epoch=len(training_set)\n",
    "# )"
   ]
  },
  {
   "cell_type": "code",
   "execution_count": null,
   "metadata": {},
   "outputs": [],
   "source": []
  },
  {
   "cell_type": "code",
   "execution_count": 20,
   "metadata": {},
   "outputs": [],
   "source": [
    "import matplotlib.pyplot as plt"
   ]
  },
  {
   "cell_type": "code",
   "execution_count": 28,
   "metadata": {},
   "outputs": [
    {
     "data": {
      "image/png": "[encoded data removed]",
      "text/plain": [
       "<Figure size 432x288 with 1 Axes>"
      ]
     },
     "metadata": {
      "needs_background": "light"
     },
     "output_type": "display_data"
    },
    {
     "data": {
      "image/png": "[encoded data removed]",
      "text/plain": [
       "<Figure size 432x288 with 1 Axes>"
      ]
     },
     "metadata": {
      "needs_background": "light"
     },
     "output_type": "display_data"
    },
    {
     "data": {
      "text/plain": [
       "<Figure size 432x288 with 0 Axes>"
      ]
     },
     "metadata": {},
     "output_type": "display_data"
    }
   ],
   "source": [
    "# plot the loss\n",
    "plt.plot(r.history['loss'], label='train loss',color='r')\n",
    "plt.plot(r.history['val_loss'], label='val loss',color='r',linestyle='--',)\n",
    "plt.legend()\n",
    "plt.xlabel('epochs')\n",
    "plt.ylabel('loss')\n",
    "plt.show()\n",
    "plt.savefig('LossVal_loss')\n",
    "\n",
    "# plot the accuracy\n",
    "plt.plot(r.history['accuracy'], label='train acc',color='g')\n",
    "plt.plot(r.history['val_accuracy'], label='val acc',color='g',linestyle='--')\n",
    "plt.legend()\n",
    "plt.xlabel('epochs')\n",
    "plt.ylabel('accuracy')\n",
    "plt.show()\n",
    "plt.savefig('AccVal_acc')"
   ]
  },
  {
   "cell_type": "code",
   "execution_count": 29,
   "metadata": {},
   "outputs": [],
   "source": [
    "# save it as a h5 file\n",
    "\n",
    "\n",
    "from tensorflow.keras.models import load_model\n",
    "\n",
    "model.save('model_vgg16.h5')"
   ]
  },
  {
   "cell_type": "code",
   "execution_count": 53,
   "metadata": {},
   "outputs": [
    {
     "name": "stdout",
     "output_type": "stream",
     "text": [
      "5/5 [==============================] - 41s 8s/step\n"
     ]
    },
    {
     "data": {
      "text/plain": [
       "array([[2.07861827e-04, 1.80353979e-07, 2.48116606e-07, ...,\n",
       "        3.47356558e-06, 9.42148734e-04, 1.03562803e-03],\n",
       "       [1.95058971e-03, 1.61080959e-06, 1.45795551e-04, ...,\n",
       "        3.05835397e-06, 1.03694825e-02, 9.28331353e-03],\n",
       "       [3.14714424e-02, 8.76492858e-01, 2.36762105e-03, ...,\n",
       "        5.85087168e-04, 4.56658825e-07, 2.73701488e-08],\n",
       "       ...,\n",
       "       [1.36144998e-04, 2.26884822e-08, 1.97741847e-05, ...,\n",
       "        1.01554571e-04, 3.67668108e-05, 9.97829497e-01],\n",
       "       [1.31387101e-03, 1.20980658e-04, 1.11818845e-04, ...,\n",
       "        9.98076797e-01, 4.23394425e-07, 1.02241437e-07],\n",
       "       [9.81311738e-01, 8.85156055e-08, 4.52394495e-08, ...,\n",
       "        5.50438335e-06, 1.41511764e-05, 3.96115182e-04]], dtype=float32)"
      ]
     },
     "execution_count": 53,
     "metadata": {},
     "output_type": "execute_result"
    }
   ],
   "source": [
    "y_predicted=model.predict(test_set)\n",
    "y_predicted"
   ]
  },
  {
   "cell_type": "code",
   "execution_count": 34,
   "metadata": {},
   "outputs": [
    {
     "data": {
      "text/plain": [
       "array([1, 8, 6, 5, 7, 4, 5, 5, 4, 2, 7, 2, 7, 8, 4, 3, 6, 5, 2, 5, 2, 6,\n",
       "       3, 5, 4, 2, 3, 5, 7, 4, 5, 7, 4, 4, 1, 7, 5, 4, 6, 5, 4, 4, 7, 8,\n",
       "       5, 4, 0, 1, 0, 4, 3, 1, 3, 4, 7, 5, 4, 5, 3, 8, 5, 7, 3, 0, 3, 7,\n",
       "       0, 3, 7, 7, 3, 4, 3, 3, 0, 4, 1, 7, 8, 3, 6, 4, 2, 8, 7, 4, 4, 3,\n",
       "       5, 5, 5, 4, 4, 1, 7, 5, 6, 5, 4, 5, 1, 5, 0, 7, 5, 4, 6, 3, 8, 7,\n",
       "       6, 4, 3, 4, 5, 6, 3, 3, 3, 4, 8, 3, 3, 3, 2, 4, 0, 4, 0, 5, 0, 1,\n",
       "       4, 3, 8, 7, 1, 7, 4, 0, 0, 1, 7, 0, 8, 3, 6], dtype=int64)"
      ]
     },
     "execution_count": 34,
     "metadata": {},
     "output_type": "execute_result"
    }
   ],
   "source": [
    "y_pred = np.argmax(y_predicted, 1)\n",
    "y_pred"
   ]
  },
  {
   "cell_type": "code",
   "execution_count": 50,
   "metadata": {},
   "outputs": [
    {
     "data": {
      "text/plain": [
       "array([0, 0, 0, 0, 0, 0, 0, 0, 0, 0, 0, 0, 0, 0, 0, 0, 0, 0, 0, 0, 1, 1,\n",
       "       1, 1, 1, 1, 1, 1, 1, 1, 2, 2, 2, 2, 2, 2, 2, 3, 3, 3, 3, 3, 3, 3,\n",
       "       3, 3, 3, 3, 3, 3, 3, 3, 3, 3, 3, 3, 3, 4, 4, 4, 4, 4, 4, 4, 4, 4,\n",
       "       4, 4, 4, 4, 4, 4, 4, 4, 4, 4, 4, 4, 4, 4, 4, 4, 4, 4, 4, 4, 4, 5,\n",
       "       5, 5, 5, 5, 5, 5, 5, 5, 5, 5, 5, 5, 5, 5, 5, 5, 5, 5, 5, 6, 6, 6,\n",
       "       6, 6, 6, 6, 6, 6, 6, 7, 7, 7, 7, 7, 7, 7, 7, 7, 7, 7, 7, 7, 7, 7,\n",
       "       7, 7, 7, 7, 7, 8, 8, 8, 8, 8, 8, 8, 8, 8, 8])"
      ]
     },
     "execution_count": 50,
     "metadata": {},
     "output_type": "execute_result"
    }
   ],
   "source": [
    "y_actual=test_set.classes\n",
    "y_actual"
   ]
  },
  {
   "cell_type": "code",
   "execution_count": 51,
   "metadata": {},
   "outputs": [
    {
     "data": {
      "text/plain": [
       "array([[0, 1, 3, 1, 3, 5, 2, 3, 2],\n",
       "       [0, 0, 2, 2, 2, 2, 1, 1, 0],\n",
       "       [0, 1, 0, 0, 2, 2, 0, 2, 0],\n",
       "       [2, 2, 0, 2, 7, 3, 1, 2, 1],\n",
       "       [3, 1, 1, 8, 5, 2, 1, 6, 3],\n",
       "       [1, 2, 0, 1, 4, 8, 2, 2, 0],\n",
       "       [0, 0, 0, 3, 2, 1, 2, 1, 1],\n",
       "       [3, 2, 1, 6, 4, 1, 0, 1, 2],\n",
       "       [3, 1, 0, 1, 1, 0, 1, 2, 1]], dtype=int64)"
      ]
     },
     "execution_count": 51,
     "metadata": {},
     "output_type": "execute_result"
    }
   ],
   "source": [
    "confusion_matrix(y_actual,y_pred)"
   ]
  },
  {
   "cell_type": "code",
   "execution_count": 47,
   "metadata": {},
   "outputs": [
    {
     "data": {
      "text/plain": [
       "['Catla',\n",
       " 'Comman carp',\n",
       " 'Grass Carp',\n",
       " 'Mrigal',\n",
       " 'Pomfret',\n",
       " 'Rohu',\n",
       " 'Silver Carp',\n",
       " 'Tilapia',\n",
       " 'Tuna']"
      ]
     },
     "execution_count": 47,
     "metadata": {},
     "output_type": "execute_result"
    }
   ],
   "source": [
    "class_labels = list(test_set.class_indices.keys()) \n",
    "class_labels"
   ]
  },
  {
   "cell_type": "code",
   "execution_count": 40,
   "metadata": {},
   "outputs": [],
   "source": [
    "# #confusion matrix\n",
    "# # You need to iterate over the data, then you can collect predictions and true classes.\n",
    "# predicted_probs = np.empty([])\n",
    "# true_classes =  np.empty([])\n",
    "\n",
    "# for images, labels in test_set:\n",
    "#   predicted_probs = np.concatenate([predicted_probs,\n",
    "#                        model(images)])\n",
    "#   true_classes = np.concatenate([true_classes, labels.numpy()])\n",
    "\n",
    "# # Since they are sigmoid outputs, you need to transform them into classes with a threshold, i.e 0.5 here:\n",
    "# predicted_classes = [1 * (x[0]>=0.5) for x in predicted_probs]\n",
    "\n",
    "# # confusion matrix etc:\n",
    "# conf_matrix = tf.math.confusion_matrix(true_classes, predicted_classes)\n",
    "# print(conf_matrix) "
   ]
  },
  {
   "cell_type": "code",
   "execution_count": 43,
   "metadata": {},
   "outputs": [
    {
     "name": "stderr",
     "output_type": "stream",
     "text": [
      "C:\\Users\\jadha\\AppData\\Local\\Temp\\ipykernel_34300\\1413942288.py:7: UserWarning: `Model.predict_generator` is deprecated and will be removed in a future version. Please use `Model.predict`, which supports generators.\n",
      "  predictions = model.predict_generator(test_set, steps=test_steps_per_epoch)\n"
     ]
    },
    {
     "name": "stdout",
     "output_type": "stream",
     "text": [
      "['Catla', 'Comman carp', 'Grass Carp', 'Mrigal', 'Pomfret', 'Rohu', 'Silver Carp', 'Tilapia', 'Tuna']\n",
      "[[20  0  0  0  0  0  0  0  0]\n",
      " [10  0  0  0  0  0  0  0  0]\n",
      " [ 5  2  0  0  0  0  0  0  0]\n",
      " [19  1  0  0  0  0  0  0  0]\n",
      " [27  3  0  0  0  0  0  0  0]\n",
      " [18  2  0  0  0  0  0  0  0]\n",
      " [10  0  0  0  0  0  0  0  0]\n",
      " [19  1  0  0  0  0  0  0  0]\n",
      " [ 8  2  0  0  0  0  0  0  0]]\n"
     ]
    },
    {
     "ename": "NameError",
     "evalue": "name 'sklearn' is not defined",
     "output_type": "error",
     "traceback": [
      "\u001b[1;31m---------------------------------------------------------------------------\u001b[0m",
      "\u001b[1;31mNameError\u001b[0m                                 Traceback (most recent call last)",
      "Input \u001b[1;32mIn [43]\u001b[0m, in \u001b[0;36m<cell line: 23>\u001b[1;34m()\u001b[0m\n\u001b[0;32m     19\u001b[0m \u001b[38;5;28mprint\u001b[39m(class_labels)\n\u001b[0;32m     21\u001b[0m \u001b[38;5;28mprint\u001b[39m(confusion_matrix(test_set\u001b[38;5;241m.\u001b[39mclasses, predicted_classes))\n\u001b[1;32m---> 23\u001b[0m report \u001b[38;5;241m=\u001b[39m \u001b[43msklearn\u001b[49m\u001b[38;5;241m.\u001b[39mmetrics\u001b[38;5;241m.\u001b[39mclassification_report(true_classes, predicted_classes, target_names\u001b[38;5;241m=\u001b[39mclass_labels)\n\u001b[0;32m     24\u001b[0m \u001b[38;5;28mprint\u001b[39m(report)\n",
      "\u001b[1;31mNameError\u001b[0m: name 'sklearn' is not defined"
     ]
    }
   ],
   "source": [
    "#confusion matrix\n",
    "#1.Predict classes\n",
    "from tensorflow.keras.preprocessing.image import ImageDataGenerator\n",
    "\n",
    "test_steps_per_epoch = np.math.ceil(test_set.samples / test_set.batch_size)\n",
    "\n",
    "predictions = model.predict_generator(test_set, steps=test_steps_per_epoch)\n",
    "\n",
    "# Get most likely class\n",
    "predicted_classes = [1 * (x[0]>=0.5) for x in predictions]\n",
    "\n",
    "# 2.Get ground-truth classes and class-labels\n",
    "true_classes = test_set.classes\n",
    "class_labels = list(test_set.class_indices.keys()) \n",
    "\n",
    "# 3. Use scikit-learn to get statistics\n",
    "from sklearn.metrics import confusion_matrix,classification_report\n",
    "\n",
    "print(class_labels)\n",
    "\n",
    "print(confusion_matrix(test_set.classes, predicted_classes))\n",
    "\n",
    "report = sklearn.metrics.classification_report(true_classes, predicted_classes, target_names=class_labels)\n",
    "print(report) "
   ]
  },
  {
   "cell_type": "code",
   "execution_count": 45,
   "metadata": {},
   "outputs": [],
   "source": [
    "# fig = plt.figure(figsize=(10, 10)) # Set Figure\n",
    "\n",
    "# y_pred = model.predict(test_set) # Predict class probabilities as 2 => [0.1, 0, 0.9, 0, 0, 0, 0, 0, 0, 0]\n",
    "\n",
    "# Y_pred = np.argmax(y_pred, 1) # Decode Predicted labels\n",
    "# Y_test = np.argmax(test_set, 1) # Decode labels\n",
    "\n",
    "# mat = confusion_matrix(Y_test, Y_pred) # Confusion matrix\n",
    "\n",
    "# # Plot Confusion matrix\n",
    "# sns.heatmap(mat.T, square=True, annot=True, cbar=False, cmap=plt.cm.Blues, fmt='.0f')\n",
    "# plt.xlabel('Predicted Values')\n",
    "# plt.ylabel('True Values');\n",
    "# plt.show();"
   ]
  },
  {
   "cell_type": "code",
   "execution_count": null,
   "metadata": {},
   "outputs": [],
   "source": []
  }
 ],
 "metadata": {
  "kernelspec": {
   "display_name": "Python 3 (ipykernel)",
   "language": "python",
   "name": "python3"
  },
  "language_info": {
   "codemirror_mode": {
    "name": "ipython",
    "version": 3
   },
   "file_extension": ".py",
   "mimetype": "text/x-python",
   "name": "python",
   "nbconvert_exporter": "python",
   "pygments_lexer": "ipython3",
   "version": "3.9.12"
  }
 },
 "nbformat": 4,
 "nbformat_minor": 2
}
